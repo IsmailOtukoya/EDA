{
 "cells": [
  {
   "cell_type": "code",
   "execution_count": 1,
   "id": "8bf8920c",
   "metadata": {},
   "outputs": [
    {
     "name": "stderr",
     "output_type": "stream",
     "text": [
      "C:\\Users\\ISMAIL\\anaconda3\\lib\\site-packages\\scipy\\__init__.py:138: UserWarning: A NumPy version >=1.16.5 and <1.23.0 is required for this version of SciPy (detected version 1.24.2)\n",
      "  warnings.warn(f\"A NumPy version >={np_minversion} and <{np_maxversion} is required for this version of \"\n"
     ]
    }
   ],
   "source": [
    "import numpy as np\n",
    "import pandas as pd\n",
    "import seaborn as sns\n",
    "import matplotlib.pyplot as plt"
   ]
  },
  {
   "cell_type": "code",
   "execution_count": 2,
   "id": "fd6827ac",
   "metadata": {},
   "outputs": [],
   "source": [
    "df = pd.read_csv(r\"C:\\Users\\ISMAIL\\Downloads\\census_07_2022.csv\")"
   ]
  },
  {
   "cell_type": "code",
   "execution_count": 3,
   "id": "7b542687",
   "metadata": {},
   "outputs": [
    {
     "data": {
      "text/html": [
       "<div>\n",
       "<style scoped>\n",
       "    .dataframe tbody tr th:only-of-type {\n",
       "        vertical-align: middle;\n",
       "    }\n",
       "\n",
       "    .dataframe tbody tr th {\n",
       "        vertical-align: top;\n",
       "    }\n",
       "\n",
       "    .dataframe thead th {\n",
       "        text-align: right;\n",
       "    }\n",
       "</style>\n",
       "<table border=\"1\" class=\"dataframe\">\n",
       "  <thead>\n",
       "    <tr style=\"text-align: right;\">\n",
       "      <th></th>\n",
       "      <th>Unnamed: 0</th>\n",
       "      <th>House Number</th>\n",
       "      <th>Street</th>\n",
       "      <th>First Name</th>\n",
       "      <th>Surname</th>\n",
       "      <th>Age</th>\n",
       "      <th>Relationship to Head of House</th>\n",
       "      <th>Marital Status</th>\n",
       "      <th>Gender</th>\n",
       "      <th>Occupation</th>\n",
       "      <th>Infirmity</th>\n",
       "      <th>Religion</th>\n",
       "    </tr>\n",
       "  </thead>\n",
       "  <tbody>\n",
       "    <tr>\n",
       "      <th>0</th>\n",
       "      <td>0</td>\n",
       "      <td>1</td>\n",
       "      <td>Forgotten Gardens</td>\n",
       "      <td>Laura</td>\n",
       "      <td>White</td>\n",
       "      <td>56</td>\n",
       "      <td>Head</td>\n",
       "      <td>Married</td>\n",
       "      <td>Female</td>\n",
       "      <td>Unemployed</td>\n",
       "      <td>None</td>\n",
       "      <td>Christian</td>\n",
       "    </tr>\n",
       "    <tr>\n",
       "      <th>1</th>\n",
       "      <td>1</td>\n",
       "      <td>1</td>\n",
       "      <td>Forgotten Gardens</td>\n",
       "      <td>Elliot</td>\n",
       "      <td>White</td>\n",
       "      <td>57</td>\n",
       "      <td>Husband</td>\n",
       "      <td>Married</td>\n",
       "      <td>Male</td>\n",
       "      <td>Education officer, community</td>\n",
       "      <td>None</td>\n",
       "      <td>Christian</td>\n",
       "    </tr>\n",
       "    <tr>\n",
       "      <th>2</th>\n",
       "      <td>2</td>\n",
       "      <td>1</td>\n",
       "      <td>Forgotten Gardens</td>\n",
       "      <td>Nicole</td>\n",
       "      <td>White</td>\n",
       "      <td>15</td>\n",
       "      <td>Daughter</td>\n",
       "      <td>NaN</td>\n",
       "      <td>Female</td>\n",
       "      <td>Student</td>\n",
       "      <td>None</td>\n",
       "      <td>NaN</td>\n",
       "    </tr>\n",
       "    <tr>\n",
       "      <th>3</th>\n",
       "      <td>3</td>\n",
       "      <td>2</td>\n",
       "      <td>Forgotten Gardens</td>\n",
       "      <td>Michelle</td>\n",
       "      <td>John</td>\n",
       "      <td>44</td>\n",
       "      <td>Head</td>\n",
       "      <td>Divorced</td>\n",
       "      <td>Female</td>\n",
       "      <td>Administrator, arts</td>\n",
       "      <td>None</td>\n",
       "      <td>Christian</td>\n",
       "    </tr>\n",
       "    <tr>\n",
       "      <th>4</th>\n",
       "      <td>4</td>\n",
       "      <td>2</td>\n",
       "      <td>Forgotten Gardens</td>\n",
       "      <td>Jeffrey</td>\n",
       "      <td>John</td>\n",
       "      <td>9</td>\n",
       "      <td>Son</td>\n",
       "      <td>NaN</td>\n",
       "      <td>Male</td>\n",
       "      <td>Student</td>\n",
       "      <td>None</td>\n",
       "      <td>NaN</td>\n",
       "    </tr>\n",
       "  </tbody>\n",
       "</table>\n",
       "</div>"
      ],
      "text/plain": [
       "   Unnamed: 0 House Number             Street First Name Surname Age  \\\n",
       "0           0            1  Forgotten Gardens      Laura   White  56   \n",
       "1           1            1  Forgotten Gardens     Elliot   White  57   \n",
       "2           2            1  Forgotten Gardens     Nicole   White  15   \n",
       "3           3            2  Forgotten Gardens   Michelle    John  44   \n",
       "4           4            2  Forgotten Gardens    Jeffrey    John   9   \n",
       "\n",
       "  Relationship to Head of House Marital Status  Gender  \\\n",
       "0                          Head        Married  Female   \n",
       "1                       Husband        Married    Male   \n",
       "2                      Daughter            NaN  Female   \n",
       "3                          Head       Divorced  Female   \n",
       "4                           Son            NaN    Male   \n",
       "\n",
       "                     Occupation Infirmity   Religion  \n",
       "0                    Unemployed      None  Christian  \n",
       "1  Education officer, community      None  Christian  \n",
       "2                       Student      None        NaN  \n",
       "3           Administrator, arts      None  Christian  \n",
       "4                       Student      None        NaN  "
      ]
     },
     "execution_count": 3,
     "metadata": {},
     "output_type": "execute_result"
    }
   ],
   "source": [
    "df.head()"
   ]
  },
  {
   "cell_type": "code",
   "execution_count": 4,
   "id": "9998ddca",
   "metadata": {},
   "outputs": [],
   "source": [
    "df = df.drop(['Unnamed: 0'], axis=1)"
   ]
  },
  {
   "cell_type": "code",
   "execution_count": 5,
   "id": "5f670d0f",
   "metadata": {},
   "outputs": [
    {
     "name": "stdout",
     "output_type": "stream",
     "text": [
      "<class 'pandas.core.frame.DataFrame'>\n",
      "RangeIndex: 7773 entries, 0 to 7772\n",
      "Data columns (total 11 columns):\n",
      " #   Column                         Non-Null Count  Dtype \n",
      "---  ------                         --------------  ----- \n",
      " 0   House Number                   7773 non-null   object\n",
      " 1   Street                         7773 non-null   object\n",
      " 2   First Name                     7773 non-null   object\n",
      " 3   Surname                        7773 non-null   object\n",
      " 4   Age                            7773 non-null   object\n",
      " 5   Relationship to Head of House  7773 non-null   object\n",
      " 6   Marital Status                 5960 non-null   object\n",
      " 7   Gender                         7773 non-null   object\n",
      " 8   Occupation                     7773 non-null   object\n",
      " 9   Infirmity                      7773 non-null   object\n",
      " 10  Religion                       5910 non-null   object\n",
      "dtypes: object(11)\n",
      "memory usage: 668.1+ KB\n"
     ]
    }
   ],
   "source": [
    "df.info()"
   ]
  },
  {
   "cell_type": "code",
   "execution_count": 6,
   "id": "18f5ea7a",
   "metadata": {},
   "outputs": [
    {
     "data": {
      "text/html": [
       "<div>\n",
       "<style scoped>\n",
       "    .dataframe tbody tr th:only-of-type {\n",
       "        vertical-align: middle;\n",
       "    }\n",
       "\n",
       "    .dataframe tbody tr th {\n",
       "        vertical-align: top;\n",
       "    }\n",
       "\n",
       "    .dataframe thead th {\n",
       "        text-align: right;\n",
       "    }\n",
       "</style>\n",
       "<table border=\"1\" class=\"dataframe\">\n",
       "  <thead>\n",
       "    <tr style=\"text-align: right;\">\n",
       "      <th></th>\n",
       "      <th>House Number</th>\n",
       "      <th>Street</th>\n",
       "      <th>First Name</th>\n",
       "      <th>Surname</th>\n",
       "      <th>Age</th>\n",
       "      <th>Relationship to Head of House</th>\n",
       "      <th>Marital Status</th>\n",
       "      <th>Gender</th>\n",
       "      <th>Occupation</th>\n",
       "      <th>Infirmity</th>\n",
       "      <th>Religion</th>\n",
       "    </tr>\n",
       "  </thead>\n",
       "  <tbody>\n",
       "    <tr>\n",
       "      <th>count</th>\n",
       "      <td>7773</td>\n",
       "      <td>7773</td>\n",
       "      <td>7773</td>\n",
       "      <td>7773</td>\n",
       "      <td>7773</td>\n",
       "      <td>7773</td>\n",
       "      <td>5960</td>\n",
       "      <td>7773</td>\n",
       "      <td>7773</td>\n",
       "      <td>7773</td>\n",
       "      <td>5910</td>\n",
       "    </tr>\n",
       "    <tr>\n",
       "      <th>unique</th>\n",
       "      <td>222</td>\n",
       "      <td>105</td>\n",
       "      <td>366</td>\n",
       "      <td>630</td>\n",
       "      <td>110</td>\n",
       "      <td>21</td>\n",
       "      <td>9</td>\n",
       "      <td>9</td>\n",
       "      <td>1086</td>\n",
       "      <td>8</td>\n",
       "      <td>14</td>\n",
       "    </tr>\n",
       "    <tr>\n",
       "      <th>top</th>\n",
       "      <td>1</td>\n",
       "      <td>Wong Light</td>\n",
       "      <td>James</td>\n",
       "      <td>Smith</td>\n",
       "      <td>43</td>\n",
       "      <td>Head</td>\n",
       "      <td>Single</td>\n",
       "      <td>Female</td>\n",
       "      <td>Student</td>\n",
       "      <td>None</td>\n",
       "      <td>None</td>\n",
       "    </tr>\n",
       "    <tr>\n",
       "      <th>freq</th>\n",
       "      <td>301</td>\n",
       "      <td>701</td>\n",
       "      <td>36</td>\n",
       "      <td>225</td>\n",
       "      <td>146</td>\n",
       "      <td>2912</td>\n",
       "      <td>2660</td>\n",
       "      <td>3889</td>\n",
       "      <td>1477</td>\n",
       "      <td>7721</td>\n",
       "      <td>2594</td>\n",
       "    </tr>\n",
       "  </tbody>\n",
       "</table>\n",
       "</div>"
      ],
      "text/plain": [
       "       House Number      Street First Name Surname   Age  \\\n",
       "count          7773        7773       7773    7773  7773   \n",
       "unique          222         105        366     630   110   \n",
       "top               1  Wong Light      James   Smith    43   \n",
       "freq            301         701         36     225   146   \n",
       "\n",
       "       Relationship to Head of House Marital Status  Gender Occupation  \\\n",
       "count                           7773           5960    7773       7773   \n",
       "unique                            21              9       9       1086   \n",
       "top                             Head         Single  Female    Student   \n",
       "freq                            2912           2660    3889       1477   \n",
       "\n",
       "       Infirmity Religion  \n",
       "count       7773     5910  \n",
       "unique         8       14  \n",
       "top         None     None  \n",
       "freq        7721     2594  "
      ]
     },
     "execution_count": 6,
     "metadata": {},
     "output_type": "execute_result"
    }
   ],
   "source": [
    "df.describe()"
   ]
  },
  {
   "cell_type": "code",
   "execution_count": 7,
   "id": "e6b671f0",
   "metadata": {},
   "outputs": [
    {
     "data": {
      "text/plain": [
       "House Number                     False\n",
       "Street                           False\n",
       "First Name                       False\n",
       "Surname                          False\n",
       "Age                              False\n",
       "Relationship to Head of House    False\n",
       "Marital Status                    True\n",
       "Gender                           False\n",
       "Occupation                       False\n",
       "Infirmity                        False\n",
       "Religion                          True\n",
       "dtype: bool"
      ]
     },
     "execution_count": 7,
     "metadata": {},
     "output_type": "execute_result"
    }
   ],
   "source": [
    "df.isnull().any()"
   ]
  },
  {
   "cell_type": "code",
   "execution_count": 8,
   "id": "ef1e8ab4",
   "metadata": {},
   "outputs": [
    {
     "name": "stdout",
     "output_type": "stream",
     "text": [
      "1813\n"
     ]
    }
   ],
   "source": [
    "print(df['Marital Status'].isnull().sum())"
   ]
  },
  {
   "cell_type": "code",
   "execution_count": 9,
   "id": "e37b7cfc",
   "metadata": {},
   "outputs": [
    {
     "name": "stdout",
     "output_type": "stream",
     "text": [
      "1863\n"
     ]
    }
   ],
   "source": [
    "print(df['Religion'].isnull().sum())"
   ]
  },
  {
   "cell_type": "code",
   "execution_count": 10,
   "id": "851c0fd6",
   "metadata": {},
   "outputs": [],
   "source": [
    "df['Address'] = df['House Number'] + ',' + df['Street']"
   ]
  },
  {
   "cell_type": "code",
   "execution_count": 11,
   "id": "8b063f66",
   "metadata": {},
   "outputs": [
    {
     "ename": "ValueError",
     "evalue": "invalid literal for int() with base 10: '72.38784457'",
     "output_type": "error",
     "traceback": [
      "\u001b[1;31m---------------------------------------------------------------------------\u001b[0m",
      "\u001b[1;31mValueError\u001b[0m                                Traceback (most recent call last)",
      "\u001b[1;32m<ipython-input-11-9641ebb17091>\u001b[0m in \u001b[0;36m<module>\u001b[1;34m\u001b[0m\n\u001b[1;32m----> 1\u001b[1;33m \u001b[0mdf\u001b[0m\u001b[1;33m[\u001b[0m\u001b[1;34m'Age'\u001b[0m\u001b[1;33m]\u001b[0m \u001b[1;33m=\u001b[0m \u001b[0mdf\u001b[0m\u001b[1;33m[\u001b[0m\u001b[1;34m'Age'\u001b[0m\u001b[1;33m]\u001b[0m\u001b[1;33m.\u001b[0m\u001b[0mastype\u001b[0m\u001b[1;33m(\u001b[0m\u001b[0mint\u001b[0m\u001b[1;33m)\u001b[0m\u001b[1;33m\u001b[0m\u001b[1;33m\u001b[0m\u001b[0m\n\u001b[0m",
      "\u001b[1;32m~\\anaconda3\\lib\\site-packages\\pandas\\core\\generic.py\u001b[0m in \u001b[0;36mastype\u001b[1;34m(self, dtype, copy, errors)\u001b[0m\n\u001b[0;32m   6238\u001b[0m         \u001b[1;32melse\u001b[0m\u001b[1;33m:\u001b[0m\u001b[1;33m\u001b[0m\u001b[1;33m\u001b[0m\u001b[0m\n\u001b[0;32m   6239\u001b[0m             \u001b[1;31m# else, only a single dtype is given\u001b[0m\u001b[1;33m\u001b[0m\u001b[1;33m\u001b[0m\u001b[1;33m\u001b[0m\u001b[0m\n\u001b[1;32m-> 6240\u001b[1;33m             \u001b[0mnew_data\u001b[0m \u001b[1;33m=\u001b[0m \u001b[0mself\u001b[0m\u001b[1;33m.\u001b[0m\u001b[0m_mgr\u001b[0m\u001b[1;33m.\u001b[0m\u001b[0mastype\u001b[0m\u001b[1;33m(\u001b[0m\u001b[0mdtype\u001b[0m\u001b[1;33m=\u001b[0m\u001b[0mdtype\u001b[0m\u001b[1;33m,\u001b[0m \u001b[0mcopy\u001b[0m\u001b[1;33m=\u001b[0m\u001b[0mcopy\u001b[0m\u001b[1;33m,\u001b[0m \u001b[0merrors\u001b[0m\u001b[1;33m=\u001b[0m\u001b[0merrors\u001b[0m\u001b[1;33m)\u001b[0m\u001b[1;33m\u001b[0m\u001b[1;33m\u001b[0m\u001b[0m\n\u001b[0m\u001b[0;32m   6241\u001b[0m             \u001b[1;32mreturn\u001b[0m \u001b[0mself\u001b[0m\u001b[1;33m.\u001b[0m\u001b[0m_constructor\u001b[0m\u001b[1;33m(\u001b[0m\u001b[0mnew_data\u001b[0m\u001b[1;33m)\u001b[0m\u001b[1;33m.\u001b[0m\u001b[0m__finalize__\u001b[0m\u001b[1;33m(\u001b[0m\u001b[0mself\u001b[0m\u001b[1;33m,\u001b[0m \u001b[0mmethod\u001b[0m\u001b[1;33m=\u001b[0m\u001b[1;34m\"astype\"\u001b[0m\u001b[1;33m)\u001b[0m\u001b[1;33m\u001b[0m\u001b[1;33m\u001b[0m\u001b[0m\n\u001b[0;32m   6242\u001b[0m \u001b[1;33m\u001b[0m\u001b[0m\n",
      "\u001b[1;32m~\\anaconda3\\lib\\site-packages\\pandas\\core\\internals\\managers.py\u001b[0m in \u001b[0;36mastype\u001b[1;34m(self, dtype, copy, errors)\u001b[0m\n\u001b[0;32m    446\u001b[0m \u001b[1;33m\u001b[0m\u001b[0m\n\u001b[0;32m    447\u001b[0m     \u001b[1;32mdef\u001b[0m \u001b[0mastype\u001b[0m\u001b[1;33m(\u001b[0m\u001b[0mself\u001b[0m\u001b[1;33m:\u001b[0m \u001b[0mT\u001b[0m\u001b[1;33m,\u001b[0m \u001b[0mdtype\u001b[0m\u001b[1;33m,\u001b[0m \u001b[0mcopy\u001b[0m\u001b[1;33m:\u001b[0m \u001b[0mbool\u001b[0m \u001b[1;33m=\u001b[0m \u001b[1;32mFalse\u001b[0m\u001b[1;33m,\u001b[0m \u001b[0merrors\u001b[0m\u001b[1;33m:\u001b[0m \u001b[0mstr\u001b[0m \u001b[1;33m=\u001b[0m \u001b[1;34m\"raise\"\u001b[0m\u001b[1;33m)\u001b[0m \u001b[1;33m->\u001b[0m \u001b[0mT\u001b[0m\u001b[1;33m:\u001b[0m\u001b[1;33m\u001b[0m\u001b[1;33m\u001b[0m\u001b[0m\n\u001b[1;32m--> 448\u001b[1;33m         \u001b[1;32mreturn\u001b[0m \u001b[0mself\u001b[0m\u001b[1;33m.\u001b[0m\u001b[0mapply\u001b[0m\u001b[1;33m(\u001b[0m\u001b[1;34m\"astype\"\u001b[0m\u001b[1;33m,\u001b[0m \u001b[0mdtype\u001b[0m\u001b[1;33m=\u001b[0m\u001b[0mdtype\u001b[0m\u001b[1;33m,\u001b[0m \u001b[0mcopy\u001b[0m\u001b[1;33m=\u001b[0m\u001b[0mcopy\u001b[0m\u001b[1;33m,\u001b[0m \u001b[0merrors\u001b[0m\u001b[1;33m=\u001b[0m\u001b[0merrors\u001b[0m\u001b[1;33m)\u001b[0m\u001b[1;33m\u001b[0m\u001b[1;33m\u001b[0m\u001b[0m\n\u001b[0m\u001b[0;32m    449\u001b[0m \u001b[1;33m\u001b[0m\u001b[0m\n\u001b[0;32m    450\u001b[0m     def convert(\n",
      "\u001b[1;32m~\\anaconda3\\lib\\site-packages\\pandas\\core\\internals\\managers.py\u001b[0m in \u001b[0;36mapply\u001b[1;34m(self, f, align_keys, ignore_failures, **kwargs)\u001b[0m\n\u001b[0;32m    350\u001b[0m                     \u001b[0mapplied\u001b[0m \u001b[1;33m=\u001b[0m \u001b[0mb\u001b[0m\u001b[1;33m.\u001b[0m\u001b[0mapply\u001b[0m\u001b[1;33m(\u001b[0m\u001b[0mf\u001b[0m\u001b[1;33m,\u001b[0m \u001b[1;33m**\u001b[0m\u001b[0mkwargs\u001b[0m\u001b[1;33m)\u001b[0m\u001b[1;33m\u001b[0m\u001b[1;33m\u001b[0m\u001b[0m\n\u001b[0;32m    351\u001b[0m                 \u001b[1;32melse\u001b[0m\u001b[1;33m:\u001b[0m\u001b[1;33m\u001b[0m\u001b[1;33m\u001b[0m\u001b[0m\n\u001b[1;32m--> 352\u001b[1;33m                     \u001b[0mapplied\u001b[0m \u001b[1;33m=\u001b[0m \u001b[0mgetattr\u001b[0m\u001b[1;33m(\u001b[0m\u001b[0mb\u001b[0m\u001b[1;33m,\u001b[0m \u001b[0mf\u001b[0m\u001b[1;33m)\u001b[0m\u001b[1;33m(\u001b[0m\u001b[1;33m**\u001b[0m\u001b[0mkwargs\u001b[0m\u001b[1;33m)\u001b[0m\u001b[1;33m\u001b[0m\u001b[1;33m\u001b[0m\u001b[0m\n\u001b[0m\u001b[0;32m    353\u001b[0m             \u001b[1;32mexcept\u001b[0m \u001b[1;33m(\u001b[0m\u001b[0mTypeError\u001b[0m\u001b[1;33m,\u001b[0m \u001b[0mNotImplementedError\u001b[0m\u001b[1;33m)\u001b[0m\u001b[1;33m:\u001b[0m\u001b[1;33m\u001b[0m\u001b[1;33m\u001b[0m\u001b[0m\n\u001b[0;32m    354\u001b[0m                 \u001b[1;32mif\u001b[0m \u001b[1;32mnot\u001b[0m \u001b[0mignore_failures\u001b[0m\u001b[1;33m:\u001b[0m\u001b[1;33m\u001b[0m\u001b[1;33m\u001b[0m\u001b[0m\n",
      "\u001b[1;32m~\\anaconda3\\lib\\site-packages\\pandas\\core\\internals\\blocks.py\u001b[0m in \u001b[0;36mastype\u001b[1;34m(self, dtype, copy, errors)\u001b[0m\n\u001b[0;32m    524\u001b[0m         \u001b[0mvalues\u001b[0m \u001b[1;33m=\u001b[0m \u001b[0mself\u001b[0m\u001b[1;33m.\u001b[0m\u001b[0mvalues\u001b[0m\u001b[1;33m\u001b[0m\u001b[1;33m\u001b[0m\u001b[0m\n\u001b[0;32m    525\u001b[0m \u001b[1;33m\u001b[0m\u001b[0m\n\u001b[1;32m--> 526\u001b[1;33m         \u001b[0mnew_values\u001b[0m \u001b[1;33m=\u001b[0m \u001b[0mastype_array_safe\u001b[0m\u001b[1;33m(\u001b[0m\u001b[0mvalues\u001b[0m\u001b[1;33m,\u001b[0m \u001b[0mdtype\u001b[0m\u001b[1;33m,\u001b[0m \u001b[0mcopy\u001b[0m\u001b[1;33m=\u001b[0m\u001b[0mcopy\u001b[0m\u001b[1;33m,\u001b[0m \u001b[0merrors\u001b[0m\u001b[1;33m=\u001b[0m\u001b[0merrors\u001b[0m\u001b[1;33m)\u001b[0m\u001b[1;33m\u001b[0m\u001b[1;33m\u001b[0m\u001b[0m\n\u001b[0m\u001b[0;32m    527\u001b[0m \u001b[1;33m\u001b[0m\u001b[0m\n\u001b[0;32m    528\u001b[0m         \u001b[0mnew_values\u001b[0m \u001b[1;33m=\u001b[0m \u001b[0mmaybe_coerce_values\u001b[0m\u001b[1;33m(\u001b[0m\u001b[0mnew_values\u001b[0m\u001b[1;33m)\u001b[0m\u001b[1;33m\u001b[0m\u001b[1;33m\u001b[0m\u001b[0m\n",
      "\u001b[1;32m~\\anaconda3\\lib\\site-packages\\pandas\\core\\dtypes\\astype.py\u001b[0m in \u001b[0;36mastype_array_safe\u001b[1;34m(values, dtype, copy, errors)\u001b[0m\n\u001b[0;32m    297\u001b[0m \u001b[1;33m\u001b[0m\u001b[0m\n\u001b[0;32m    298\u001b[0m     \u001b[1;32mtry\u001b[0m\u001b[1;33m:\u001b[0m\u001b[1;33m\u001b[0m\u001b[1;33m\u001b[0m\u001b[0m\n\u001b[1;32m--> 299\u001b[1;33m         \u001b[0mnew_values\u001b[0m \u001b[1;33m=\u001b[0m \u001b[0mastype_array\u001b[0m\u001b[1;33m(\u001b[0m\u001b[0mvalues\u001b[0m\u001b[1;33m,\u001b[0m \u001b[0mdtype\u001b[0m\u001b[1;33m,\u001b[0m \u001b[0mcopy\u001b[0m\u001b[1;33m=\u001b[0m\u001b[0mcopy\u001b[0m\u001b[1;33m)\u001b[0m\u001b[1;33m\u001b[0m\u001b[1;33m\u001b[0m\u001b[0m\n\u001b[0m\u001b[0;32m    300\u001b[0m     \u001b[1;32mexcept\u001b[0m \u001b[1;33m(\u001b[0m\u001b[0mValueError\u001b[0m\u001b[1;33m,\u001b[0m \u001b[0mTypeError\u001b[0m\u001b[1;33m)\u001b[0m\u001b[1;33m:\u001b[0m\u001b[1;33m\u001b[0m\u001b[1;33m\u001b[0m\u001b[0m\n\u001b[0;32m    301\u001b[0m         \u001b[1;31m# e.g. astype_nansafe can fail on object-dtype of strings\u001b[0m\u001b[1;33m\u001b[0m\u001b[1;33m\u001b[0m\u001b[1;33m\u001b[0m\u001b[0m\n",
      "\u001b[1;32m~\\anaconda3\\lib\\site-packages\\pandas\\core\\dtypes\\astype.py\u001b[0m in \u001b[0;36mastype_array\u001b[1;34m(values, dtype, copy)\u001b[0m\n\u001b[0;32m    228\u001b[0m \u001b[1;33m\u001b[0m\u001b[0m\n\u001b[0;32m    229\u001b[0m     \u001b[1;32melse\u001b[0m\u001b[1;33m:\u001b[0m\u001b[1;33m\u001b[0m\u001b[1;33m\u001b[0m\u001b[0m\n\u001b[1;32m--> 230\u001b[1;33m         \u001b[0mvalues\u001b[0m \u001b[1;33m=\u001b[0m \u001b[0mastype_nansafe\u001b[0m\u001b[1;33m(\u001b[0m\u001b[0mvalues\u001b[0m\u001b[1;33m,\u001b[0m \u001b[0mdtype\u001b[0m\u001b[1;33m,\u001b[0m \u001b[0mcopy\u001b[0m\u001b[1;33m=\u001b[0m\u001b[0mcopy\u001b[0m\u001b[1;33m)\u001b[0m\u001b[1;33m\u001b[0m\u001b[1;33m\u001b[0m\u001b[0m\n\u001b[0m\u001b[0;32m    231\u001b[0m \u001b[1;33m\u001b[0m\u001b[0m\n\u001b[0;32m    232\u001b[0m     \u001b[1;31m# in pandas we don't store numpy str dtypes, so convert to object\u001b[0m\u001b[1;33m\u001b[0m\u001b[1;33m\u001b[0m\u001b[1;33m\u001b[0m\u001b[0m\n",
      "\u001b[1;32m~\\anaconda3\\lib\\site-packages\\pandas\\core\\dtypes\\astype.py\u001b[0m in \u001b[0;36mastype_nansafe\u001b[1;34m(arr, dtype, copy, skipna)\u001b[0m\n\u001b[0;32m    168\u001b[0m     \u001b[1;32mif\u001b[0m \u001b[0mcopy\u001b[0m \u001b[1;32mor\u001b[0m \u001b[0mis_object_dtype\u001b[0m\u001b[1;33m(\u001b[0m\u001b[0marr\u001b[0m\u001b[1;33m.\u001b[0m\u001b[0mdtype\u001b[0m\u001b[1;33m)\u001b[0m \u001b[1;32mor\u001b[0m \u001b[0mis_object_dtype\u001b[0m\u001b[1;33m(\u001b[0m\u001b[0mdtype\u001b[0m\u001b[1;33m)\u001b[0m\u001b[1;33m:\u001b[0m\u001b[1;33m\u001b[0m\u001b[1;33m\u001b[0m\u001b[0m\n\u001b[0;32m    169\u001b[0m         \u001b[1;31m# Explicit copy, or required since NumPy can't view from / to object.\u001b[0m\u001b[1;33m\u001b[0m\u001b[1;33m\u001b[0m\u001b[1;33m\u001b[0m\u001b[0m\n\u001b[1;32m--> 170\u001b[1;33m         \u001b[1;32mreturn\u001b[0m \u001b[0marr\u001b[0m\u001b[1;33m.\u001b[0m\u001b[0mastype\u001b[0m\u001b[1;33m(\u001b[0m\u001b[0mdtype\u001b[0m\u001b[1;33m,\u001b[0m \u001b[0mcopy\u001b[0m\u001b[1;33m=\u001b[0m\u001b[1;32mTrue\u001b[0m\u001b[1;33m)\u001b[0m\u001b[1;33m\u001b[0m\u001b[1;33m\u001b[0m\u001b[0m\n\u001b[0m\u001b[0;32m    171\u001b[0m \u001b[1;33m\u001b[0m\u001b[0m\n\u001b[0;32m    172\u001b[0m     \u001b[1;32mreturn\u001b[0m \u001b[0marr\u001b[0m\u001b[1;33m.\u001b[0m\u001b[0mastype\u001b[0m\u001b[1;33m(\u001b[0m\u001b[0mdtype\u001b[0m\u001b[1;33m,\u001b[0m \u001b[0mcopy\u001b[0m\u001b[1;33m=\u001b[0m\u001b[0mcopy\u001b[0m\u001b[1;33m)\u001b[0m\u001b[1;33m\u001b[0m\u001b[1;33m\u001b[0m\u001b[0m\n",
      "\u001b[1;31mValueError\u001b[0m: invalid literal for int() with base 10: '72.38784457'"
     ]
    }
   ],
   "source": [
    "df['Age'] = df['Age'].astype(int)"
   ]
  },
  {
   "cell_type": "code",
   "execution_count": null,
   "id": "7f974b22",
   "metadata": {},
   "outputs": [],
   "source": [
    "def categorize_occupation (Occupations):\n",
    "    word = Occupations.split()\n",
    "    if len(word) > 0:\n",
    "        first_word = word[0]\n",
    "        if first_word == 'Unemployed':\n",
    "            return 0 #'Unemployed'\n",
    "        elif first_word == 'Student':\n",
    "            return 1#'Student'\n",
    "        elif first_word == 'Child':\n",
    "            return 2#'Child'\n",
    "        elif first_word == 'Retired':\n",
    "            return 3#'Retired'\n",
    "    \n",
    "    return 4#'Employed'\n",
    "    \n",
    "df['Occupation Category'] = df['Occupation']. apply(categorize_occupation)\n",
    "category_labels = {0.0:'Unemployed', 1.0:'Student', 2.0:'Child', 3.0:'Retired', 4.0:'Employed'}\n",
    "df['Occupation Category'] = df['Occupation Category'].map(category_labels)\n",
    "df.head()"
   ]
  },
  {
   "cell_type": "code",
   "execution_count": 12,
   "id": "e5802205",
   "metadata": {},
   "outputs": [
    {
     "name": "stdout",
     "output_type": "stream",
     "text": [
      "     House Number         Street First Name Surname          Age  \\\n",
      "358            80    Fish Harbor       Mary    Ward  72.38784457   \n",
      "359            80    Fish Harbor       Alex    Ward  74.38784457   \n",
      "5060            5    Kerr Avenue      Lewis  Turner  80.57582061   \n",
      "5061            5    Kerr Avenue     Kirsty  Turner  77.57582061   \n",
      "5062            5    Kerr Avenue      Jodie   Dixon     7.11E-15   \n",
      "5998           40  Skylock Curve      Jodie  Clarke                \n",
      "\n",
      "     Relationship to Head of House Marital Status  Gender  \\\n",
      "358                           Head        Married  Female   \n",
      "359                        Husband        Married    Male   \n",
      "5060                          Head        Married    Male   \n",
      "5061                          Wife        Married  Female   \n",
      "5062                 Granddaughter            NaN  Female   \n",
      "5998                      Daughter            NaN  Female   \n",
      "\n",
      "                      Occupation Infirmity   Religion           Address  \n",
      "358          Retired Hydrologist      None  Christian    80,Fish Harbor  \n",
      "359                   Unemployed      None  Christian    80,Fish Harbor  \n",
      "5060       Retired Haematologist      None  Christian     5,Kerr Avenue  \n",
      "5061  Retired Theme park manager      None       None     5,Kerr Avenue  \n",
      "5062                       Child      None        NaN     5,Kerr Avenue  \n",
      "5998                       Child      None        NaN  40,Skylock Curve  \n"
     ]
    }
   ],
   "source": [
    "#creating a mask for non numeric values in Age column\n",
    "mask = df['Age'].str.contains(r'\\D')\n",
    "\n",
    "#selecting the rows containing non-numeric characters\n",
    "non_numeric_rows = df[mask]\n",
    "\n",
    "print(non_numeric_rows)"
   ]
  },
  {
   "cell_type": "code",
   "execution_count": 13,
   "id": "34e0bbab",
   "metadata": {},
   "outputs": [],
   "source": [
    "df.drop([358,359,5060,5061,5062,5998], inplace = True)"
   ]
  },
  {
   "cell_type": "code",
   "execution_count": 14,
   "id": "a6684aed",
   "metadata": {},
   "outputs": [],
   "source": [
    "df['Age'] = df['Age'].astype(int)"
   ]
  },
  {
   "cell_type": "code",
   "execution_count": 15,
   "id": "ec3168b0",
   "metadata": {},
   "outputs": [],
   "source": [
    "df.replace({'Marital Status':{'W':'Widowed', 'M' : 'Married', 'S': 'Single', 'D':'Divorced', ' ':'Divorced'}}, inplace = True)\n",
    "df.rename(columns = {'Marital Status':'Marital_Status'}, inplace = True)\n",
    "df.rename(columns = {'Relationship to Head of House':'Relationship_to_HOH'}, inplace = True)"
   ]
  },
  {
   "cell_type": "code",
   "execution_count": 16,
   "id": "7f540234",
   "metadata": {},
   "outputs": [
    {
     "data": {
      "text/plain": [
       "4"
      ]
     },
     "execution_count": 16,
     "metadata": {},
     "output_type": "execute_result"
    }
   ],
   "source": [
    "df['Marital_Status'].nunique()"
   ]
  },
  {
   "cell_type": "code",
   "execution_count": 17,
   "id": "3f1cf4e1",
   "metadata": {},
   "outputs": [
    {
     "data": {
      "text/plain": [
       "Single      2661\n",
       "Married     2192\n",
       "Divorced     703\n",
       "Widowed      400\n",
       "Name: Marital_Status, dtype: int64"
      ]
     },
     "execution_count": 17,
     "metadata": {},
     "output_type": "execute_result"
    }
   ],
   "source": [
    "df['Marital_Status'].value_counts()"
   ]
  },
  {
   "cell_type": "code",
   "execution_count": 18,
   "id": "d3da7b94",
   "metadata": {},
   "outputs": [
    {
     "data": {
      "text/plain": [
       "None         2593\n",
       "Christian    1810\n",
       "Catholic      805\n",
       "Methodist     491\n",
       "Muslim        100\n",
       "Sikh           60\n",
       "Jewish         36\n",
       "                3\n",
       "Bahai           2\n",
       "Private         2\n",
       "Buddist         1\n",
       "Sith            1\n",
       "Baptist         1\n",
       "Orthodoxy       1\n",
       "Name: Religion, dtype: int64"
      ]
     },
     "execution_count": 18,
     "metadata": {},
     "output_type": "execute_result"
    }
   ],
   "source": [
    "df['Religion'].value_counts()"
   ]
  },
  {
   "cell_type": "code",
   "execution_count": 19,
   "id": "6a02e6c8",
   "metadata": {},
   "outputs": [
    {
     "data": {
      "text/plain": [
       "Head                     2910\n",
       "Son                      1273\n",
       "Daughter                 1214\n",
       "Husband                   802\n",
       "None                      474\n",
       "Wife                      290\n",
       "Lodger                    274\n",
       "Partner                   223\n",
       "Grandson                   66\n",
       "Granddaughter              55\n",
       "Sibling                    42\n",
       "Cousin                     32\n",
       "Visitor                    27\n",
       "Step-Son                   24\n",
       "Adopted Son                17\n",
       "Step-Daughter              16\n",
       "Neice                      10\n",
       "Nephew                      9\n",
       "Adopted Daughter            7\n",
       "Adopted Granddaughter       1\n",
       "                            1\n",
       "Name: Relationship_to_HOH, dtype: int64"
      ]
     },
     "execution_count": 19,
     "metadata": {},
     "output_type": "execute_result"
    }
   ],
   "source": [
    "df['Relationship_to_HOH'].value_counts()"
   ]
  },
  {
   "cell_type": "code",
   "execution_count": 20,
   "id": "22b94c98",
   "metadata": {},
   "outputs": [],
   "source": [
    "##df['Marital_Status_map'] = df.Marital_Status.map({'Widowed':0, 'Married':1, 'Single':2, 'Divorced':3 })\n",
    "#df['Relationship_to_HOH_Map'] = df.Relationship_to_HOH.map({'Head':0, 'Son':1, 'Daughter':2, 'Husband':3, 'None':4, 'Wife':5, 'Lodger':6, 'Partner':7, 'Grandson':8, 'Granddaughter':9, 'Sibling':10, 'Cousin':11, 'Visitor':12, 'Step-Son':13, 'Adopted Son':14, 'Step-Daughter':15, 'Neice':16, 'Nephew':17, 'Adopted Daughter':18, 'Adopted Granddaughter':19})\n",
    "##df[['Relationship_to_HOH_Map', 'Marital_Status_map']]"
   ]
  },
  {
   "cell_type": "code",
   "execution_count": 21,
   "id": "526a40af",
   "metadata": {},
   "outputs": [
    {
     "data": {
      "text/html": [
       "<div>\n",
       "<style scoped>\n",
       "    .dataframe tbody tr th:only-of-type {\n",
       "        vertical-align: middle;\n",
       "    }\n",
       "\n",
       "    .dataframe tbody tr th {\n",
       "        vertical-align: top;\n",
       "    }\n",
       "\n",
       "    .dataframe thead th {\n",
       "        text-align: right;\n",
       "    }\n",
       "</style>\n",
       "<table border=\"1\" class=\"dataframe\">\n",
       "  <thead>\n",
       "    <tr style=\"text-align: right;\">\n",
       "      <th></th>\n",
       "      <th>House Number</th>\n",
       "      <th>Street</th>\n",
       "      <th>First Name</th>\n",
       "      <th>Surname</th>\n",
       "      <th>Age</th>\n",
       "      <th>Relationship_to_HOH</th>\n",
       "      <th>Marital_Status</th>\n",
       "      <th>Gender</th>\n",
       "      <th>Occupation</th>\n",
       "      <th>Infirmity</th>\n",
       "      <th>Religion</th>\n",
       "      <th>Address</th>\n",
       "    </tr>\n",
       "  </thead>\n",
       "  <tbody>\n",
       "    <tr>\n",
       "      <th>0</th>\n",
       "      <td>1</td>\n",
       "      <td>Forgotten Gardens</td>\n",
       "      <td>Laura</td>\n",
       "      <td>White</td>\n",
       "      <td>56</td>\n",
       "      <td>Head</td>\n",
       "      <td>Married</td>\n",
       "      <td>Female</td>\n",
       "      <td>Unemployed</td>\n",
       "      <td>None</td>\n",
       "      <td>Christian</td>\n",
       "      <td>1,Forgotten Gardens</td>\n",
       "    </tr>\n",
       "    <tr>\n",
       "      <th>1</th>\n",
       "      <td>1</td>\n",
       "      <td>Forgotten Gardens</td>\n",
       "      <td>Elliot</td>\n",
       "      <td>White</td>\n",
       "      <td>57</td>\n",
       "      <td>Husband</td>\n",
       "      <td>Married</td>\n",
       "      <td>Male</td>\n",
       "      <td>Education officer, community</td>\n",
       "      <td>None</td>\n",
       "      <td>Christian</td>\n",
       "      <td>1,Forgotten Gardens</td>\n",
       "    </tr>\n",
       "    <tr>\n",
       "      <th>2</th>\n",
       "      <td>1</td>\n",
       "      <td>Forgotten Gardens</td>\n",
       "      <td>Nicole</td>\n",
       "      <td>White</td>\n",
       "      <td>15</td>\n",
       "      <td>Daughter</td>\n",
       "      <td>NaN</td>\n",
       "      <td>Female</td>\n",
       "      <td>Student</td>\n",
       "      <td>None</td>\n",
       "      <td>NaN</td>\n",
       "      <td>1,Forgotten Gardens</td>\n",
       "    </tr>\n",
       "    <tr>\n",
       "      <th>3</th>\n",
       "      <td>2</td>\n",
       "      <td>Forgotten Gardens</td>\n",
       "      <td>Michelle</td>\n",
       "      <td>John</td>\n",
       "      <td>44</td>\n",
       "      <td>Head</td>\n",
       "      <td>Divorced</td>\n",
       "      <td>Female</td>\n",
       "      <td>Administrator, arts</td>\n",
       "      <td>None</td>\n",
       "      <td>Christian</td>\n",
       "      <td>2,Forgotten Gardens</td>\n",
       "    </tr>\n",
       "    <tr>\n",
       "      <th>4</th>\n",
       "      <td>2</td>\n",
       "      <td>Forgotten Gardens</td>\n",
       "      <td>Jeffrey</td>\n",
       "      <td>John</td>\n",
       "      <td>9</td>\n",
       "      <td>Son</td>\n",
       "      <td>NaN</td>\n",
       "      <td>Male</td>\n",
       "      <td>Student</td>\n",
       "      <td>None</td>\n",
       "      <td>NaN</td>\n",
       "      <td>2,Forgotten Gardens</td>\n",
       "    </tr>\n",
       "  </tbody>\n",
       "</table>\n",
       "</div>"
      ],
      "text/plain": [
       "  House Number             Street First Name Surname  Age Relationship_to_HOH  \\\n",
       "0            1  Forgotten Gardens      Laura   White   56                Head   \n",
       "1            1  Forgotten Gardens     Elliot   White   57             Husband   \n",
       "2            1  Forgotten Gardens     Nicole   White   15            Daughter   \n",
       "3            2  Forgotten Gardens   Michelle    John   44                Head   \n",
       "4            2  Forgotten Gardens    Jeffrey    John    9                 Son   \n",
       "\n",
       "  Marital_Status  Gender                    Occupation Infirmity   Religion  \\\n",
       "0        Married  Female                    Unemployed      None  Christian   \n",
       "1        Married    Male  Education officer, community      None  Christian   \n",
       "2            NaN  Female                       Student      None        NaN   \n",
       "3       Divorced  Female           Administrator, arts      None  Christian   \n",
       "4            NaN    Male                       Student      None        NaN   \n",
       "\n",
       "               Address  \n",
       "0  1,Forgotten Gardens  \n",
       "1  1,Forgotten Gardens  \n",
       "2  1,Forgotten Gardens  \n",
       "3  2,Forgotten Gardens  \n",
       "4  2,Forgotten Gardens  "
      ]
     },
     "execution_count": 21,
     "metadata": {},
     "output_type": "execute_result"
    }
   ],
   "source": [
    "df.head()"
   ]
  },
  {
   "cell_type": "code",
   "execution_count": 47,
   "id": "4f41853b",
   "metadata": {},
   "outputs": [
    {
     "name": "stdout",
     "output_type": "stream",
     "text": [
      "House Number              0\n",
      "Street                    0\n",
      "First Name                0\n",
      "Surname                   0\n",
      "Age                       0\n",
      "Relationship_to_HOH       0\n",
      "Marital_Status         1811\n",
      "Gender                    0\n",
      "Occupation                0\n",
      "Infirmity                 0\n",
      "Religion               1861\n",
      "Occupation Category       0\n",
      "dtype: int64\n"
     ]
    }
   ],
   "source": [
    "from sklearn.preprocessing import LabelEncoder\n",
    "from sklearn.impute import KNNImputer\n",
    "\n",
    "#check for missing values\n",
    "print(df.isnull().sum())\n",
    "\n",
    "#drop rows with missing values\n",
    "df.dropna(inplace=True)\n",
    "\n",
    "# Instatiate LabelEncoder and fit_transform on the categorical columns\n",
    "le_MS = LabelEncoder()\n",
    "df['Marital_Status'] = le_MS.fit_transform(df['Marital_Status'])\n",
    "le_R = LabelEncoder()\n",
    "df['Religion'] = le_R.fit_transform(df['Religion'])\n",
    "\n",
    "# Instantiate  KNNImputer and fit_tansform on the numerical columns\n",
    "imputer = KNNImputer(n_neighbors=3)\n",
    "df[['Marital_Status', 'Religion']] =imputer.fit_transform(df[['Marital_Status', 'Religion']])\n",
    "\n",
    "#invers transform to original categorical columns\n",
    "df['Marital_Status'] = le_MS.inverse_transform(df['Marital_Status'].astype(int))\n",
    "df['Religion'] = le_R.inverse_transform(df['Religion'].astype(int))"
   ]
  },
  {
   "cell_type": "code",
   "execution_count": 31,
   "id": "49a588d5",
   "metadata": {},
   "outputs": [
    {
     "name": "stdout",
     "output_type": "stream",
     "text": [
      "There is an average of 3.0 occupants per house\n"
     ]
    }
   ],
   "source": [
    "print('There is an average of ' +  str(df['Address'].value_counts().mean().round(0)) +  ' occupants per house')"
   ]
  },
  {
   "cell_type": "code",
   "execution_count": 34,
   "id": "4e6b5e9b",
   "metadata": {},
   "outputs": [
    {
     "data": {
      "text/plain": [
       "2.0"
      ]
     },
     "execution_count": 34,
     "metadata": {},
     "output_type": "execute_result"
    }
   ],
   "source": [
    "df['Address'].value_counts().median() "
   ]
  },
  {
   "cell_type": "code",
   "execution_count": 48,
   "id": "4c0a10a4",
   "metadata": {},
   "outputs": [
    {
     "data": {
      "text/plain": [
       "House Number           False\n",
       "Street                 False\n",
       "First Name             False\n",
       "Surname                False\n",
       "Age                    False\n",
       "Relationship_to_HOH    False\n",
       "Marital_Status         False\n",
       "Gender                 False\n",
       "Occupation             False\n",
       "Infirmity              False\n",
       "Religion               False\n",
       "Occupation Category    False\n",
       "dtype: bool"
      ]
     },
     "execution_count": 48,
     "metadata": {},
     "output_type": "execute_result"
    }
   ],
   "source": [
    "df.isnull().any()"
   ]
  },
  {
   "cell_type": "code",
   "execution_count": 49,
   "id": "a1f7ba8a",
   "metadata": {},
   "outputs": [
    {
     "data": {
      "text/plain": [
       "Single      2634\n",
       "Married     2177\n",
       "Divorced     694\n",
       "Widowed      400\n",
       "Name: Marital_Status, dtype: int64"
      ]
     },
     "execution_count": 49,
     "metadata": {},
     "output_type": "execute_result"
    }
   ],
   "source": [
    "df['Marital_Status'].value_counts()"
   ]
  },
  {
   "cell_type": "code",
   "execution_count": 50,
   "id": "6c22c018",
   "metadata": {},
   "outputs": [
    {
     "name": "stdout",
     "output_type": "stream",
     "text": [
      "0\n"
     ]
    }
   ],
   "source": [
    "print(df['Marital_Status'].isnull().sum())"
   ]
  },
  {
   "cell_type": "code",
   "execution_count": 51,
   "id": "7bee7b91",
   "metadata": {},
   "outputs": [],
   "source": [
    "#Since it is just the Religion column that has null values left and majority of the people have None for their religion and most of the other religions apart from \n",
    "#Christian, Catholic and Methodist have above a hundred in terms of volume, the rest are quite insignificant so we will be filling in the null values with None\n",
    "df['Religion'] = df['Religion'].fillna(value = \"None\") "
   ]
  },
  {
   "cell_type": "code",
   "execution_count": 52,
   "id": "67ac7395",
   "metadata": {},
   "outputs": [
    {
     "data": {
      "text/plain": [
       "1083"
      ]
     },
     "execution_count": 52,
     "metadata": {},
     "output_type": "execute_result"
    }
   ],
   "source": [
    "df['Occupation'].nunique()"
   ]
  },
  {
   "cell_type": "code",
   "execution_count": 53,
   "id": "920ce207",
   "metadata": {},
   "outputs": [
    {
     "data": {
      "text/plain": [
       "array(['None', 'Unknown Infection', 'Blind', 'Disabled', ' ',\n",
       "       'Mental Disability', 'Physical Disability', 'Deaf'], dtype=object)"
      ]
     },
     "execution_count": 53,
     "metadata": {},
     "output_type": "execute_result"
    }
   ],
   "source": [
    "df['Infirmity'].unique()"
   ]
  },
  {
   "cell_type": "code",
   "execution_count": 54,
   "id": "aa67d492",
   "metadata": {},
   "outputs": [],
   "source": [
    "df.replace({'Infirmity':{' ':'None'}}, inplace = True)"
   ]
  },
  {
   "cell_type": "code",
   "execution_count": 55,
   "id": "57a2df90",
   "metadata": {},
   "outputs": [
    {
     "data": {
      "text/plain": [
       "array(['None', 'Unknown Infection', 'Blind', 'Disabled',\n",
       "       'Mental Disability', 'Physical Disability', 'Deaf'], dtype=object)"
      ]
     },
     "execution_count": 55,
     "metadata": {},
     "output_type": "execute_result"
    }
   ],
   "source": [
    "df['Infirmity'].unique()"
   ]
  },
  {
   "cell_type": "code",
   "execution_count": 71,
   "id": "9a838f50",
   "metadata": {},
   "outputs": [],
   "source": [
    "#This is to create a new age group column based on different age ranges\n",
    "df.loc[df['Age']<11, 'Age group'] = 'Youngins'\n",
    "df.loc[df['Age'].between(11,26), 'Age group'] = 'Gen Z'\n",
    "df.loc[df['Age'].between(27,42), 'Age group'] = 'Millennials'\n",
    "df.loc[df['Age'].between(43,58), 'Age group'] = 'Gen X'\n",
    "df.loc[df['Age']>58, 'Age group'] = 'Boomers ii'"
   ]
  },
  {
   "cell_type": "code",
   "execution_count": 72,
   "id": "1b7440ab",
   "metadata": {},
   "outputs": [
    {
     "data": {
      "text/plain": [
       "Female    3153\n",
       "Male      2752\n",
       "Name: Gender, dtype: int64"
      ]
     },
     "execution_count": 72,
     "metadata": {},
     "output_type": "execute_result"
    }
   ],
   "source": [
    "df['Gender'].value_counts()"
   ]
  },
  {
   "cell_type": "code",
   "execution_count": 73,
   "id": "34dc1295",
   "metadata": {},
   "outputs": [],
   "source": [
    "df.replace({'Gender':{'M':'Male', 'm' : 'Male', 'male': 'Male', 'F':'Female', 'f':'Female', 'female':'Female', ' ':'Female'}}, inplace = True)"
   ]
  },
  {
   "cell_type": "markdown",
   "id": "04d00cd2",
   "metadata": {},
   "source": [
    "# DEMOGRAPHIC ANALYSIS\n",
    "### Thh is Analysis is on the demographic elements of the census, it includes analysis and visualisations on Age Group, Age, Gender distribution, occupation, Marital status, Religion density"
   ]
  },
  {
   "cell_type": "code",
   "execution_count": 75,
   "id": "2f817702",
   "metadata": {},
   "outputs": [
    {
     "data": {
      "text/plain": [
       "<AxesSubplot:xlabel='Age group', ylabel='count'>"
      ]
     },
     "execution_count": 75,
     "metadata": {},
     "output_type": "execute_result"
    },
    {
     "data": {
      "image/png": "[encoded data removed]",
      "text/plain": [
       "<Figure size 432x288 with 1 Axes>"
      ]
     },
     "metadata": {},
     "output_type": "display_data"
    }
   ],
   "source": [
    "sns.countplot(data=df,x='Age group' )"
   ]
  },
  {
   "cell_type": "code",
   "execution_count": 89,
   "id": "b3114809",
   "metadata": {},
   "outputs": [
    {
     "data": {
      "text/plain": [
       "Text(0.5, 1.0, 'Proportion of Age Group')"
      ]
     },
     "execution_count": 89,
     "metadata": {},
     "output_type": "execute_result"
    },
    {
     "data": {
      "image/png": "[encoded data removed]",
      "text/plain": [
       "<Figure size 432x288 with 1 Axes>"
      ]
     },
     "metadata": {},
     "output_type": "display_data"
    }
   ],
   "source": [
    "#Calculate the amount of each age group\n",
    "Age_group_counts = df['Age group'].value_counts()\n",
    "plt.pie(Age_group_counts, labels = Age_group_counts.index, autopct = '%1.1f%%', startangle=90, shadow = True)\n",
    "#Add title\n",
    "plt.title('Proportion of Age Group')\n"
   ]
  },
  {
   "cell_type": "markdown",
   "id": "2b17c3ee",
   "metadata": {},
   "source": [
    "### From the bar chart and pie chart , it is evident that the Millenials have the highest population which is the age range from 27-42"
   ]
  },
  {
   "cell_type": "code",
   "execution_count": 76,
   "id": "bde9d126",
   "metadata": {},
   "outputs": [
    {
     "data": {
      "text/plain": [
       "Text(0.5, 1.0, 'Proportion of Male and Female')"
      ]
     },
     "execution_count": 76,
     "metadata": {},
     "output_type": "execute_result"
    },
    {
     "data": {
      "image/png": "[encoded data removed]",
      "text/plain": [
       "<Figure size 432x288 with 1 Axes>"
      ]
     },
     "metadata": {},
     "output_type": "display_data"
    }
   ],
   "source": [
    "#Calculate the amount of males and females\n",
    "Gender_counts = df['Gender'].value_counts()\n",
    "plt.pie(Gender_counts, labels = Gender_counts.index, autopct = '%1.1f%%', startangle=90, shadow = True)\n",
    "#Add title\n",
    "plt.title('Proportion of Male and Female')\n"
   ]
  },
  {
   "cell_type": "markdown",
   "id": "9d710814",
   "metadata": {},
   "source": [
    "### Based on the pie chart, it shows that females are more than male individuals but the difference between the both sexes is not much\n"
   ]
  },
  {
   "cell_type": "code",
   "execution_count": 77,
   "id": "d240ff25",
   "metadata": {},
   "outputs": [
    {
     "data": {
      "text/plain": [
       "<AxesSubplot:xlabel='Marital_Status', ylabel='count'>"
      ]
     },
     "execution_count": 77,
     "metadata": {},
     "output_type": "execute_result"
    },
    {
     "data": {
      "image/png": "[encoded data removed]",
      "text/plain": [
       "<Figure size 432x288 with 1 Axes>"
      ]
     },
     "metadata": {},
     "output_type": "display_data"
    }
   ],
   "source": [
    "sns.countplot(data=df,x='Marital_Status' )"
   ]
  },
  {
   "cell_type": "markdown",
   "id": "61c95f1e",
   "metadata": {},
   "source": [
    "### The population mostly consists of single people followed by married people and the widowed have the least population."
   ]
  },
  {
   "cell_type": "code",
   "execution_count": 78,
   "id": "4dd41aec",
   "metadata": {},
   "outputs": [
    {
     "data": {
      "text/plain": [
       "[Text(0, 0, 'Christian'),\n",
       " Text(1, 0, 'None'),\n",
       " Text(2, 0, 'Catholic'),\n",
       " Text(3, 0, 'Methodist'),\n",
       " Text(4, 0, 'Muslim'),\n",
       " Text(5, 0, 'Jewish'),\n",
       " Text(6, 0, 'Sikh'),\n",
       " Text(7, 0, 'Buddist'),\n",
       " Text(8, 0, 'Bahai'),\n",
       " Text(9, 0, 'Sith'),\n",
       " Text(10, 0, 'Private'),\n",
       " Text(11, 0, 'Baptist'),\n",
       " Text(12, 0, ' '),\n",
       " Text(13, 0, 'Orthodoxy')]"
      ]
     },
     "execution_count": 78,
     "metadata": {},
     "output_type": "execute_result"
    },
    {
     "data": {
      "image/png": "[encoded data removed]",
      "text/plain": [
       "<Figure size 432x288 with 1 Axes>"
      ]
     },
     "metadata": {},
     "output_type": "display_data"
    }
   ],
   "source": [
    "sns.set(style='ticks', rc = {'xtick.labelsize': 12, 'ytick.labelsize': 12})\n",
    "ax = sns.countplot(data=df,x='Religion' )\n",
    "ax.set_xticklabels(ax.get_xticklabels(), rotation=90)\n",
    "\n"
   ]
  },
  {
   "cell_type": "markdown",
   "id": "8a8f586c",
   "metadata": {},
   "source": [
    "### Individuals with that filled in None as religion have the highest population with a count of slightly above 2500 and the next three in descending order is Christian with a count of almost 2000 followed by the catholics who have a count  of 500 plus but less than 1000, then finally the methodist with a count of 500. The ramining religions have a really insignificant number in comparison to the total population.\n"
   ]
  },
  {
   "cell_type": "code",
   "execution_count": 79,
   "id": "3f41f439",
   "metadata": {},
   "outputs": [],
   "source": [
    "df['Age'] = df['Age'].astype(float)"
   ]
  },
  {
   "cell_type": "code",
   "execution_count": 80,
   "id": "9b746771",
   "metadata": {},
   "outputs": [
    {
     "data": {
      "text/plain": [
       "0       56.0\n",
       "1       57.0\n",
       "3       44.0\n",
       "5       72.0\n",
       "6       38.0\n",
       "        ... \n",
       "7765    43.0\n",
       "7768    30.0\n",
       "7770    54.0\n",
       "7771    48.0\n",
       "7772    34.0\n",
       "Name: Age, Length: 5905, dtype: float64"
      ]
     },
     "execution_count": 80,
     "metadata": {},
     "output_type": "execute_result"
    }
   ],
   "source": [
    "pd.to_numeric(df['Age'], errors='raise')"
   ]
  },
  {
   "cell_type": "code",
   "execution_count": 81,
   "id": "5ec4cc09",
   "metadata": {},
   "outputs": [
    {
     "data": {
      "text/plain": [
       "105"
      ]
     },
     "execution_count": 81,
     "metadata": {},
     "output_type": "execute_result"
    }
   ],
   "source": [
    "df['Street'].nunique()"
   ]
  },
  {
   "cell_type": "code",
   "execution_count": 82,
   "id": "e3743e55",
   "metadata": {},
   "outputs": [
    {
     "data": {
      "image/png": "[encoded data removed]",
      "text/plain": [
       "<Figure size 432x288 with 1 Axes>"
      ]
     },
     "metadata": {},
     "output_type": "display_data"
    }
   ],
   "source": [
    "#Grouping the data by address and count the occurences of each address\n",
    "Street_counts = df.groupby('Street').size().reset_index(name='count')\n",
    "#creat a histogram of address counts\n",
    "plt.hist(Street_counts['count'], bins=30, log=True)\n",
    "\n",
    "plt.xlabel('Count')\n",
    "plt.ylabel('Frequency (log scale)')\n",
    "plt.show()"
   ]
  },
  {
   "cell_type": "code",
   "execution_count": 83,
   "id": "72f273aa",
   "metadata": {},
   "outputs": [
    {
     "data": {
      "image/png": "[encoded data removed]",
      "text/plain": [
       "<Figure size 432x288 with 1 Axes>"
      ]
     },
     "metadata": {},
     "output_type": "display_data"
    }
   ],
   "source": [
    "#Group data by age group and gender\n",
    "grouped_data = df.groupby(['Age group', 'Gender'])['Age'].count()\n",
    "grouped_data = grouped_data.unstack()\n",
    "\n",
    "fig, ax = plt.subplots()\n",
    "grouped_data ['Male'].plot(kind='bar', position=0, width=0.4, ax=ax,  color ='blue')\n",
    "grouped_data ['Female'].plot(kind='bar', position=1, width=0.4, ax=ax,  color ='red')\n",
    "\n",
    "ax.set_xlabel('Age Group by Gender')\n",
    "ax.set_ylabel('Count')\n",
    "ax.set_title('Population Pyramid')\n",
    "\n",
    "plt.show()"
   ]
  },
  {
   "cell_type": "code",
   "execution_count": 84,
   "id": "88f3e643",
   "metadata": {},
   "outputs": [
    {
     "data": {
      "image/png": "[encoded data removed]",
      "text/plain": [
       "<Figure size 432x288 with 1 Axes>"
      ]
     },
     "metadata": {},
     "output_type": "display_data"
    }
   ],
   "source": [
    "#Group data by Occupation category and gender\n",
    "grouped_data = df.groupby(['Occupation Category', 'Gender'])['Occupation Category'].count()\n",
    "grouped_data = grouped_data.unstack()\n",
    "\n",
    "fig, ax = plt.subplots()\n",
    "grouped_data ['Male'].plot(kind='bar', position=0, width=0.4, ax=ax,  color ='blue')\n",
    "grouped_data ['Female'].plot(kind='bar', position=1, width=0.4, ax=ax,  color ='red')\n",
    "\n",
    "ax.set_xlabel('Occupation Category by Gender')\n",
    "ax.set_ylabel('Count')\n",
    "ax.set_title('Population Pyramid 2')\n",
    "\n",
    "plt.show()"
   ]
  },
  {
   "cell_type": "code",
   "execution_count": 86,
   "id": "d545ba55",
   "metadata": {},
   "outputs": [
    {
     "data": {
      "image/png": "[encoded data removed]",
      "text/plain": [
       "<Figure size 432x288 with 1 Axes>"
      ]
     },
     "metadata": {},
     "output_type": "display_data"
    }
   ],
   "source": [
    "#Group data by Occupation category and Age group\n",
    "grouped_data = df.groupby(['Occupation Category', 'Age group'])['Occupation Category'].count()\n",
    "grouped_data = grouped_data.unstack()\n",
    "\n",
    "fig, ax = plt.subplots()\n",
    "grouped_data ['Gen X'].plot(kind='bar', position=0, width=0.4, ax=ax,  color ='blue')\n",
    "grouped_data ['Millennials'].plot(kind='bar', position=1, width=0.4, ax=ax,  color ='red')\n",
    "grouped_data ['Gen Z'].plot(kind='bar', position=1, width=0.4, ax=ax,  color ='green')\n",
    "grouped_data ['Boomers ii'].plot(kind='bar', position=1, width=0.4, ax=ax,  color ='orange')\n",
    "\n",
    "ax.set_xlabel('Occupation Category by Age Group')\n",
    "ax.set_ylabel('Count')\n",
    "ax.set_title('Population Pyramid 2')\n",
    "ax.legend()\n",
    "\n",
    "plt.show()"
   ]
  },
  {
   "cell_type": "code",
   "execution_count": null,
   "id": "cc693a55",
   "metadata": {},
   "outputs": [],
   "source": []
  },
  {
   "cell_type": "code",
   "execution_count": null,
   "id": "cbe10c38",
   "metadata": {},
   "outputs": [],
   "source": []
  }
 ],
 "metadata": {
  "kernelspec": {
   "display_name": "Python 3",
   "language": "python",
   "name": "python3"
  },
  "language_info": {
   "codemirror_mode": {
    "name": "ipython",
    "version": 3
   },
   "file_extension": ".py",
   "mimetype": "text/x-python",
   "name": "python",
   "nbconvert_exporter": "python",
   "pygments_lexer": "ipython3",
   "version": "3.8.8"
  }
 },
 "nbformat": 4,
 "nbformat_minor": 5
}
